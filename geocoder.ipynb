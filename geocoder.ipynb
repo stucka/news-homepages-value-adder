{
 "cells": [
  {
   "cell_type": "code",
   "execution_count": null,
   "id": "0efe6841",
   "metadata": {},
   "outputs": [],
   "source": [
    "# Requires news-homepages to be installed and updated at ..\\news-homepages from https://github.com/palewire/news-homepages"
   ]
  },
  {
   "cell_type": "code",
   "execution_count": null,
   "id": "fb3b17dd",
   "metadata": {},
   "outputs": [],
   "source": [
    "from opencage.geocoder import OpenCageGeocode\n",
    "import simplejson as json\n",
    "from tqdm import tqdm\n",
    "\n",
    "import csv\n",
    "import os"
   ]
  },
  {
   "cell_type": "code",
   "execution_count": null,
   "id": "c325930f",
   "metadata": {},
   "outputs": [],
   "source": [
    "sourcedir = \"../news-homepages/newshomepages/sources/\"\n",
    "supportdir = \"support/\"\n",
    "geodatafile = supportdir + \"geodata.json\"\n",
    "configfile = supportdir + \"config.py\""
   ]
  },
  {
   "cell_type": "code",
   "execution_count": null,
   "id": "abb62272",
   "metadata": {},
   "outputs": [],
   "source": [
    "if not os.path.exists(configfile):\n",
    "    print(f\"You need to build out a configuration file at {configfile} using the sample.\")\n",
    "else:\n",
    "    from support.config import *\n",
    "    print(f\"Configuration successfully loaded\")"
   ]
  },
  {
   "cell_type": "code",
   "execution_count": null,
   "id": "2f6511ed",
   "metadata": {},
   "outputs": [],
   "source": [
    "sitedict = {}\n",
    "with open(sourcedir + \"sites.csv\", \"r\", encoding='utf-8') as infile:\n",
    "    reader = csv.DictReader(infile)\n",
    "    for row in reader:\n",
    "        row['geoname'] = None\n",
    "        if len(row['bundle']) == 0:\n",
    "            row['bundle'] = []\n",
    "        else:\n",
    "            row['bundle'] = row['bundle'].split(\"|\")\n",
    "        sitedict[row['handle']] = row"
   ]
  },
  {
   "cell_type": "code",
   "execution_count": null,
   "id": "33080613",
   "metadata": {},
   "outputs": [],
   "source": [
    "bundledict = {}\n",
    "with open(sourcedir + \"bundles.csv\", \"r\", encoding='utf-8') as infile:\n",
    "    reader = csv.DictReader(infile)\n",
    "    for row in reader:\n",
    "        bundledict[row['slug']] = row"
   ]
  },
  {
   "cell_type": "code",
   "execution_count": null,
   "id": "f6cdf538",
   "metadata": {},
   "outputs": [],
   "source": [
    "countrydict = {}\n",
    "with open(supportdir + \"countries.csv\", \"r\", encoding=\"utf-8\") as infile:\n",
    "    reader = csv.DictReader(infile)\n",
    "    for row in reader:\n",
    "        countrydict[row['2codeupper']] = row['goodname']"
   ]
  },
  {
   "cell_type": "code",
   "execution_count": null,
   "id": "82f3b341",
   "metadata": {},
   "outputs": [],
   "source": [
    "for handle in sitedict:\n",
    "    z = sitedict[handle]\n",
    "    country = z['country']\n",
    "    if country not in ['US']:\n",
    "        if country not in countrydict:\n",
    "            print(f\"Missing country code {country}\")\n",
    "        else:\n",
    "            sitedict[handle]['geoname'] = z['location'] + \", \" + countrydict[country]\n",
    "    elif country in ['US']:\n",
    "        bundles = z['bundle']\n",
    "        for bundle in bundles:\n",
    "            if bundle not in bundledict:\n",
    "                print(f\"Missing bundle {bundle} from lookup\")\n",
    "            else:\n",
    "                if bundledict[bundle]['type'] == \"region\":\n",
    "                    sitedict[handle]['geoname'] = z['location'] + \", \" + bundledict[bundle]['name']"
   ]
  },
  {
   "cell_type": "code",
   "execution_count": null,
   "id": "f85b4c24",
   "metadata": {},
   "outputs": [],
   "source": [
    "if os.path.exists(geodatafile):\n",
    "    with open(geodatafile, \"r\", encoding='utf-8') as infile:\n",
    "        geodata = json.loads(infile.read())\n",
    "#    geodata = json.load(geodatafile)\n",
    "else:\n",
    "    geodata = {}"
   ]
  },
  {
   "cell_type": "code",
   "execution_count": null,
   "id": "033cac8e",
   "metadata": {},
   "outputs": [],
   "source": [
    "for handle in sitedict:\n",
    "    z = sitedict[handle]\n",
    "    if z['geoname'] and z['geoname'] not in geodata:\n",
    "        geodata[z['geoname']] = None"
   ]
  },
  {
   "cell_type": "code",
   "execution_count": null,
   "id": "6f24abcf",
   "metadata": {},
   "outputs": [],
   "source": [
    "geocoder = OpenCageGeocode(apikey)"
   ]
  },
  {
   "cell_type": "code",
   "execution_count": null,
   "id": "c4b5475a",
   "metadata": {},
   "outputs": [],
   "source": [
    "print(f\"Looking for geography names that were not yet geocoded.\")\n",
    "for geoname in tqdm(geodata):\n",
    "    if not geodata[geoname]:     # If we have no data, if we need to geocode\n",
    "        results = geocoder.geocode(geoname)\n",
    "        latlong = str(results[0]['geometry']['lat']) + \", \" + str(results[0]['geometry']['lng'])\n",
    "        geodata[geoname] = {}\n",
    "        geodata[geoname]['details'] = results[0]\n",
    "        geodata[geoname]['latlong'] = latlong"
   ]
  },
  {
   "cell_type": "code",
   "execution_count": null,
   "id": "adf838fe",
   "metadata": {},
   "outputs": [],
   "source": [
    "with open(geodatafile, \"w\") as outfile:\n",
    "    outfile.write(json.dumps(geodata, indent=4 * ' ', encoding='utf-8'))"
   ]
  },
  {
   "cell_type": "code",
   "execution_count": null,
   "id": "571bb961",
   "metadata": {},
   "outputs": [],
   "source": [
    "# Find countries not represented\n",
    "countrytally = {}\n",
    "for countrycode in countrydict:\n",
    "    countrytally[countrycode] = 0\n",
    "for site in sitedict:\n",
    "    countrytally[sitedict[site]['country']] += 1\n",
    "for countrycode in countrytally:\n",
    "    if countrytally[countrycode] == 0:\n",
    "        print(f\"{countrydict[countrycode]}\")"
   ]
  },
  {
   "cell_type": "code",
   "execution_count": null,
   "id": "9a111a1e",
   "metadata": {},
   "outputs": [],
   "source": [
    "valueadds = {}\n",
    "for handle in sitedict:\n",
    "    geoname = sitedict[handle]['geoname']\n",
    "    if geoname:\n",
    "        valueadds[handle] = {}\n",
    "        valueadds[handle]['geoname'] = geoname\n",
    "        if geoname in geodata and 'latlong' in geodata[geoname]:\n",
    "            valueadds[handle]['latlong'] = geodata[geoname]['latlong']"
   ]
  },
  {
   "cell_type": "code",
   "execution_count": null,
   "id": "f13c60f0",
   "metadata": {},
   "outputs": [],
   "source": [
    "with open(\"valueadds.json\", \"w\", encoding=\"utf-8\") as outfile:\n",
    "    outfile.write(json.dumps(valueadds, indent=4 * ' ', encoding='utf-8'))"
   ]
  },
  {
   "cell_type": "code",
   "execution_count": null,
   "id": "1e1f6faa",
   "metadata": {},
   "outputs": [],
   "source": []
  }
 ],
 "metadata": {
  "kernelspec": {
   "display_name": "Python 3 (ipykernel)",
   "language": "python",
   "name": "python3"
  },
  "language_info": {
   "codemirror_mode": {
    "name": "ipython",
    "version": 3
   },
   "file_extension": ".py",
   "mimetype": "text/x-python",
   "name": "python",
   "nbconvert_exporter": "python",
   "pygments_lexer": "ipython3",
   "version": "3.10.6"
  }
 },
 "nbformat": 4,
 "nbformat_minor": 5
}
