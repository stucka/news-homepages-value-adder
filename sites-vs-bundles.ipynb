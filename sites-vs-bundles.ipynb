{
 "cells": [
  {
   "cell_type": "code",
   "execution_count": null,
   "id": "ccb3eb1e",
   "metadata": {},
   "outputs": [],
   "source": [
    "import csv"
   ]
  },
  {
   "cell_type": "code",
   "execution_count": null,
   "id": "99edcf5b",
   "metadata": {},
   "outputs": [],
   "source": [
    "sourcedir = \"../news-homepages/newshomepages/sources/\"\n",
    "\n",
    "bundlesdict = {}\n",
    "with open(sourcedir + \"bundles.csv\", \"r\") as infile:\n",
    "    reader = csv.DictReader(infile)\n",
    "    for row in reader:\n",
    "        slug = row['slug']\n",
    "        row['ids'] = []\n",
    "        row['tally'] = 0\n",
    "        bundlesdict[slug] = row\n",
    "        if \" \" in slug:     # Basic quality check\n",
    "            print(slug)"
   ]
  },
  {
   "cell_type": "code",
   "execution_count": null,
   "id": "4eb0abc8",
   "metadata": {},
   "outputs": [],
   "source": [
    "# Import sites. Check to ensure each bundle is valid.\n",
    "\n",
    "sites = {}\n",
    "with open(sourcedir + \"sites.csv\", \"r\", encoding='utf-8') as infile:\n",
    "    reader = csv.DictReader(infile)\n",
    "    for row in reader:\n",
    "        handle = row['handle']\n",
    "        bundlelist = []\n",
    "        if len(row['bundle']) > 0:\n",
    "            bundlelist = row['bundle'].split(\"|\")\n",
    "        row['bundlelist'] = bundlelist\n",
    "        sites[handle] = row\n",
    "        for bundle in bundlelist:\n",
    "            if bundle not in bundlesdict:\n",
    "                print(f\"Bundle '{bundle}' not found but offered in {handle}\")\n",
    "            else:\n",
    "                bundlesdict[bundle]['tally'] += 1\n",
    "                bundlesdict[bundle]['ids'].append(handle)"
   ]
  },
  {
   "cell_type": "code",
   "execution_count": null,
   "id": "dbf4e5e7",
   "metadata": {},
   "outputs": [],
   "source": [
    "# Show states with fewer than three sites\n",
    "\n",
    "for bundle in sorted(bundlesdict):\n",
    "    z = bundlesdict[bundle]\n",
    "    if z['type'] == \"region\":\n",
    "        tally = z['tally']\n",
    "        # if z['tally'] < 3:\n",
    "        print(f\"{bundle}\\t{z['tally']}\")"
   ]
  },
  {
   "cell_type": "code",
   "execution_count": null,
   "id": "30eaddd7",
   "metadata": {},
   "outputs": [],
   "source": [
    "metromatches = {\n",
    "    \"bay-area\": \"california\",\n",
    "    \"chicago\": \"illinois\",\n",
    "    \"las-vegas\": \"nevada\",\n",
    "    \"new-york-city\": \"new-york-state\",\n",
    "    \"philadelphia\": \"pennsylvania\",\n",
    "    \"socal\": \"california\"\n",
    "}"
   ]
  },
  {
   "cell_type": "code",
   "execution_count": null,
   "id": "5a5fbc52",
   "metadata": {},
   "outputs": [],
   "source": [
    "# Show missing state bundles for sites with metro bundles\n",
    "\n",
    "for site in sites:\n",
    "    bundlelist = sites[site]['bundlelist']\n",
    "    for metromatch in metromatches:\n",
    "        if metromatch in bundlelist:\n",
    "            if metromatches[metromatch] not in bundlelist:\n",
    "                print(f\"{site}: {metromatches[metromatch]}|{'|'.join(bundlelist)}\")"
   ]
  },
  {
   "cell_type": "code",
   "execution_count": null,
   "id": "1d25ee1b",
   "metadata": {},
   "outputs": [],
   "source": []
  },
  {
   "cell_type": "code",
   "execution_count": null,
   "id": "4046e923",
   "metadata": {},
   "outputs": [],
   "source": []
  }
 ],
 "metadata": {
  "kernelspec": {
   "display_name": "Python 3 (ipykernel)",
   "language": "python",
   "name": "python3"
  },
  "language_info": {
   "codemirror_mode": {
    "name": "ipython",
    "version": 3
   },
   "file_extension": ".py",
   "mimetype": "text/x-python",
   "name": "python",
   "nbconvert_exporter": "python",
   "pygments_lexer": "ipython3",
   "version": "3.10.6"
  }
 },
 "nbformat": 4,
 "nbformat_minor": 5
}
